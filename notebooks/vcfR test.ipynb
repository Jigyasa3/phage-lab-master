{
 "cells": [
  {
   "cell_type": "code",
   "execution_count": 1,
   "metadata": {
    "collapsed": true
   },
   "outputs": [],
   "source": [
    "pkg <- \"pinfsc50\"\n",
    "vcf_file <- system.file(\"extdata\", \"pinf_sc50.vcf.gz\", package = pkg)\n",
    "dna_file <- system.file(\"extdata\", \"pinf_sc50.fasta\", package = pkg)\n",
    "gff_file <- system.file(\"extdata\", \"pinf_sc50.gff\", package = pkg)"
   ]
  },
  {
   "cell_type": "code",
   "execution_count": 2,
   "metadata": {
    "collapsed": false
   },
   "outputs": [
    {
     "name": "stderr",
     "output_type": "stream",
     "text": [
      "Warning message:\n",
      ": package 'vcfR' was built under R version 3.3.1"
     ]
    }
   ],
   "source": [
    "library(vcfR)\n",
    "vcf <- read.vcfR( vcf_file, verbose = FALSE )"
   ]
  },
  {
   "cell_type": "code",
   "execution_count": 3,
   "metadata": {
    "collapsed": true
   },
   "outputs": [],
   "source": [
    "dna <- ape::read.dna(dna_file, format = \"fasta\")"
   ]
  },
  {
   "cell_type": "code",
   "execution_count": 4,
   "metadata": {
    "collapsed": true
   },
   "outputs": [],
   "source": [
    "gff <- read.table(gff_file, sep=\"\\t\", quote=\"\")"
   ]
  },
  {
   "cell_type": "code",
   "execution_count": 5,
   "metadata": {
    "collapsed": false
   },
   "outputs": [
    {
     "name": "stderr",
     "output_type": "stream",
     "text": [
      "Names in vcf:\n",
      "  Supercontig_1.50\n",
      "Names of sequences:\n",
      "  Supercontig_1.50 of Phytophthora infestans T30-4\n",
      "Warning message:\n",
      "In create.chromR(name = \"Supercontig\", vcf = vcf, seq = dna, ann = gff): \n",
      "        Names in variant data and sequence data do not match perfectly.\n",
      "        If you choose to proceed, we'll do our best to match the data.\n",
      "        But prepare yourself for unexpected results.Names in annotation:\n",
      "  Supercontig_1.50\n",
      "Initializing var.info slot.\n",
      "var.info slot initialized.\n"
     ]
    }
   ],
   "source": [
    "library(vcfR)\n",
    "chrom <- create.chromR(name='Supercontig', vcf=vcf, seq=dna, ann=gff)"
   ]
  },
  {
   "cell_type": "code",
   "execution_count": 6,
   "metadata": {
    "collapsed": false
   },
   "outputs": [
    {
     "data": {
      "image/png": "[encoded data removed]",
      "text/plain": [
       "Plot with title \"No SNP densities found\""
      ]
     },
     "metadata": {},
     "output_type": "display_data"
    }
   ],
   "source": [
    "plot(chrom)"
   ]
  },
  {
   "cell_type": "code",
   "execution_count": null,
   "metadata": {
    "collapsed": true
   },
   "outputs": [],
   "source": []
  }
 ],
 "metadata": {
  "kernelspec": {
   "display_name": "R",
   "language": "R",
   "name": "ir"
  },
  "language_info": {
   "codemirror_mode": "r",
   "file_extension": ".r",
   "mimetype": "text/x-r-source",
   "name": "R",
   "pygments_lexer": "r",
   "version": "3.3.0"
  }
 },
 "nbformat": 4,
 "nbformat_minor": 0
}
